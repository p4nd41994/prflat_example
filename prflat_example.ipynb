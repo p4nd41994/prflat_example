{
 "cells": [
  {
   "cell_type": "code",
   "execution_count": 322,
   "id": "4c0673e8-d5d9-4ed6-8e2a-07cfeb971945",
   "metadata": {},
   "outputs": [],
   "source": [
    "## Импорт необходимых библиотек\n",
    "\n",
    "import pandas as pd\n",
    "import numpy as np\n",
    "import matplotlib.pyplot as plt\n",
    "import lightgbm as lgb\n",
    "from sklearn.model_selection import train_test_split\n",
    "from sklearn.metrics import mean_absolute_error, r2_score\n",
    "from sklearn.preprocessing import LabelEncoder, StandardScaler"
   ]
  },
  {
   "cell_type": "code",
   "execution_count": 323,
   "id": "e630ba3d-c9c4-4ac0-b5fa-78ecf7973670",
   "metadata": {},
   "outputs": [
    {
     "name": "stdout",
     "output_type": "stream",
     "text": [
      "Данные успешно загружены. Размер таблицы: (600, 10)\n"
     ]
    }
   ],
   "source": [
    "## Загрузка данных\n",
    "\n",
    "try:\n",
    "    data = pd.read_excel('prflat.xlsx')\n",
    "    print(\"Данные успешно загружены. Размер таблицы:\", data.shape)\n",
    "except FileNotFoundError:\n",
    "    print(\"Ошибка: Файл не найден.\")"
   ]
  },
  {
   "cell_type": "code",
   "execution_count": 324,
   "id": "6db644ff-95f7-422d-b28d-12a8f3022d6b",
   "metadata": {},
   "outputs": [],
   "source": [
    "## Преобразования названий столбцов\n",
    "\n",
    "data.columns = data.columns.str.replace(' ', '_').str.replace(',', '').str.replace('(', '').str.replace(')', '')"
   ]
  },
  {
   "cell_type": "code",
   "execution_count": 325,
   "id": "f99c4c71-2b66-4287-b520-8c6dfaf0bbe9",
   "metadata": {},
   "outputs": [
    {
     "name": "stdout",
     "output_type": "stream",
     "text": [
      "\n",
      "Первые 5 строк данных:\n"
     ]
    },
    {
     "data": {
      "text/html": [
       "<div>\n",
       "<style scoped>\n",
       "    .dataframe tbody tr th:only-of-type {\n",
       "        vertical-align: middle;\n",
       "    }\n",
       "\n",
       "    .dataframe tbody tr th {\n",
       "        vertical-align: top;\n",
       "    }\n",
       "\n",
       "    .dataframe thead th {\n",
       "        text-align: right;\n",
       "    }\n",
       "</style>\n",
       "<table border=\"1\" class=\"dataframe\">\n",
       "  <thead>\n",
       "    <tr style=\"text-align: right;\">\n",
       "      <th></th>\n",
       "      <th>Адрес</th>\n",
       "      <th>Площадь_м2</th>\n",
       "      <th>Парковка</th>\n",
       "      <th>Ремонт</th>\n",
       "      <th>Балкон</th>\n",
       "      <th>Лифт</th>\n",
       "      <th>Цена</th>\n",
       "      <th>Тип_Дома</th>\n",
       "      <th>Этаж</th>\n",
       "      <th>Этажность_дома</th>\n",
       "    </tr>\n",
       "  </thead>\n",
       "  <tbody>\n",
       "    <tr>\n",
       "      <th>0</th>\n",
       "      <td>Свердловская область, Екатеринбург, улица Степ...</td>\n",
       "      <td>35.7</td>\n",
       "      <td>отсутствует</td>\n",
       "      <td>Косметический</td>\n",
       "      <td>Лоджия (1)</td>\n",
       "      <td>отсутствует</td>\n",
       "      <td>7000000</td>\n",
       "      <td>Монолитный</td>\n",
       "      <td>5</td>\n",
       "      <td>16</td>\n",
       "    </tr>\n",
       "    <tr>\n",
       "      <th>1</th>\n",
       "      <td>Свердловская область, Екатеринбург, проспект К...</td>\n",
       "      <td>39.0</td>\n",
       "      <td>отсутствует</td>\n",
       "      <td>Евроремонт</td>\n",
       "      <td>Балкон (1)</td>\n",
       "      <td>отсутствует</td>\n",
       "      <td>6999000</td>\n",
       "      <td>Монолитный</td>\n",
       "      <td>4</td>\n",
       "      <td>13</td>\n",
       "    </tr>\n",
       "    <tr>\n",
       "      <th>2</th>\n",
       "      <td>Свердловская область, Екатеринбург, переулок З...</td>\n",
       "      <td>50.0</td>\n",
       "      <td>подземная</td>\n",
       "      <td>Косметический</td>\n",
       "      <td>Балкон (1)</td>\n",
       "      <td>отсутствует</td>\n",
       "      <td>6999000</td>\n",
       "      <td>Монолитный</td>\n",
       "      <td>16</td>\n",
       "      <td>20</td>\n",
       "    </tr>\n",
       "    <tr>\n",
       "      <th>3</th>\n",
       "      <td>Свердловская область, Екатеринбург, улица Начд...</td>\n",
       "      <td>38.8</td>\n",
       "      <td>отсутствует</td>\n",
       "      <td>Евроремонт</td>\n",
       "      <td>Лоджия (1)</td>\n",
       "      <td>отсутствует</td>\n",
       "      <td>6999000</td>\n",
       "      <td>Монолитный</td>\n",
       "      <td>23</td>\n",
       "      <td>27</td>\n",
       "    </tr>\n",
       "    <tr>\n",
       "      <th>4</th>\n",
       "      <td>Свердловская область, Екатеринбург, улица Репи...</td>\n",
       "      <td>40.0</td>\n",
       "      <td>отсутствует</td>\n",
       "      <td>Косметический</td>\n",
       "      <td>Лоджия (1)</td>\n",
       "      <td>отсутствует</td>\n",
       "      <td>6990000</td>\n",
       "      <td>Панельный</td>\n",
       "      <td>15</td>\n",
       "      <td>26</td>\n",
       "    </tr>\n",
       "  </tbody>\n",
       "</table>\n",
       "</div>"
      ],
      "text/plain": [
       "                                               Адрес  Площадь_м2     Парковка  \\\n",
       "0  Свердловская область, Екатеринбург, улица Степ...        35.7  отсутствует   \n",
       "1  Свердловская область, Екатеринбург, проспект К...        39.0  отсутствует   \n",
       "2  Свердловская область, Екатеринбург, переулок З...        50.0    подземная   \n",
       "3  Свердловская область, Екатеринбург, улица Начд...        38.8  отсутствует   \n",
       "4  Свердловская область, Екатеринбург, улица Репи...        40.0  отсутствует   \n",
       "\n",
       "          Ремонт      Балкон         Лифт     Цена    Тип_Дома  Этаж  \\\n",
       "0  Косметический  Лоджия (1)  отсутствует  7000000  Монолитный     5   \n",
       "1     Евроремонт  Балкон (1)  отсутствует  6999000  Монолитный     4   \n",
       "2  Косметический  Балкон (1)  отсутствует  6999000  Монолитный    16   \n",
       "3     Евроремонт  Лоджия (1)  отсутствует  6999000  Монолитный    23   \n",
       "4  Косметический  Лоджия (1)  отсутствует  6990000   Панельный    15   \n",
       "\n",
       "   Этажность_дома  \n",
       "0              16  \n",
       "1              13  \n",
       "2              20  \n",
       "3              27  \n",
       "4              26  "
      ]
     },
     "metadata": {},
     "output_type": "display_data"
    },
    {
     "name": "stdout",
     "output_type": "stream",
     "text": [
      "\n",
      "Информация о данных:\n",
      "<class 'pandas.core.frame.DataFrame'>\n",
      "RangeIndex: 600 entries, 0 to 599\n",
      "Data columns (total 10 columns):\n",
      " #   Column          Non-Null Count  Dtype  \n",
      "---  ------          --------------  -----  \n",
      " 0   Адрес           600 non-null    object \n",
      " 1   Площадь_м2      600 non-null    float64\n",
      " 2   Парковка        600 non-null    object \n",
      " 3   Ремонт          600 non-null    object \n",
      " 4   Балкон          600 non-null    object \n",
      " 5   Лифт            600 non-null    object \n",
      " 6   Цена            600 non-null    int64  \n",
      " 7   Тип_Дома        600 non-null    object \n",
      " 8   Этаж            600 non-null    int64  \n",
      " 9   Этажность_дома  600 non-null    int64  \n",
      "dtypes: float64(1), int64(3), object(6)\n",
      "memory usage: 47.0+ KB\n"
     ]
    }
   ],
   "source": [
    "## Предварительный анализ данных\n",
    "\n",
    "# Просмотр первых строк данных\n",
    "print(\"\\nПервые 5 строк данных:\")\n",
    "display(data.head())\n",
    "\n",
    "# Основная информация о данных\n",
    "print(\"\\nИнформация о данных:\")\n",
    "data.info()"
   ]
  },
  {
   "cell_type": "code",
   "execution_count": 326,
   "id": "7be7439d-0001-4d89-90e7-fe8291f034a4",
   "metadata": {},
   "outputs": [
    {
     "name": "stdout",
     "output_type": "stream",
     "text": [
      "\n",
      "Категориальные признаки: ['Парковка', 'Ремонт', 'Балкон', 'Лифт', 'Тип_Дома']\n",
      "Числовые признаки: ['Площадь_м2', 'Этаж', 'Этажность_дома']\n"
     ]
    }
   ],
   "source": [
    "## Предобработка данных\n",
    "\n",
    "# Удаление ненужных столбцов\n",
    "columns_to_drop = ['Адрес']\n",
    "data_clean = data.drop(columns=columns_to_drop, errors='ignore')\n",
    "\n",
    "# Заполнение пропущенных значений (если есть)\n",
    "data_clean = data_clean.ffill().bfill()\n",
    "\n",
    "# Разделение на признаки (X) и целевую переменную (y)\n",
    "X = data_clean.drop(columns=['Цена'])\n",
    "y = data_clean['Цена']\n",
    "\n",
    "# Определение категориальных и числовых признаков\n",
    "categorical_cols = X.select_dtypes(include=['object']).columns\n",
    "numeric_cols = X.select_dtypes(include=['int64', 'float64']).columns\n",
    "\n",
    "print(\"\\nКатегориальные признаки:\", list(categorical_cols))\n",
    "print(\"Числовые признаки:\", list(numeric_cols))"
   ]
  },
  {
   "cell_type": "code",
   "execution_count": 327,
   "id": "c368bcd0-97eb-4aba-8fb2-b4de9000a4c9",
   "metadata": {},
   "outputs": [],
   "source": [
    "## Преобразование категориальных признаков\n",
    "\n",
    "# Создаем копию данных для преобразования\n",
    "X_processed = X.copy()\n",
    "\n",
    "# Применяем LabelEncoder к категориальным признакам\n",
    "label_encoders = {}\n",
    "for col in categorical_cols:\n",
    "    le = LabelEncoder()\n",
    "    X_processed[col] = le.fit_transform(X[col].astype(str))\n",
    "    label_encoders[col] = le"
   ]
  },
  {
   "cell_type": "code",
   "execution_count": 328,
   "id": "e7335b3b-921c-4de3-9173-19d1c7e108f0",
   "metadata": {},
   "outputs": [
    {
     "name": "stdout",
     "output_type": "stream",
     "text": [
      "\n",
      "Размеры выборок:\n",
      "Обучающая: (480, 8), Тестовая: (120, 8)\n"
     ]
    }
   ],
   "source": [
    "## Разделение данных на обучающую и тестовую выборки\n",
    "\n",
    "X_train, X_test, y_train, y_test = train_test_split(\n",
    "    X_processed, y, test_size=0.2, random_state=42)\n",
    "\n",
    "print(f\"\\nРазмеры выборок:\")\n",
    "print(f\"Обучающая: {X_train.shape}, Тестовая: {X_test.shape}\")"
   ]
  },
  {
   "cell_type": "code",
   "execution_count": 329,
   "id": "030c90eb-cee2-4cdf-a3db-236998d9449c",
   "metadata": {
    "scrolled": true
   },
   "outputs": [
    {
     "name": "stdout",
     "output_type": "stream",
     "text": [
      "\n",
      "Начинаем обучение модели...\n",
      "Training until validation scores don't improve for 50 rounds\n",
      "Early stopping, best iteration is:\n",
      "[265]\tvalid_0's l1: 459915\n",
      "\n",
      "Обучение завершено!\n",
      "Mean Absolute Error: 459914.8290176787\n"
     ]
    }
   ],
   "source": [
    "# Создание датасетов LightGBM\n",
    "\n",
    "train_data = lgb.Dataset(X_train, label=y_train)\n",
    "test_data = lgb.Dataset(X_test, label=y_test, reference=train_data)\n",
    "\n",
    "params = {\n",
    "    'objective': 'regression',\n",
    "    'metric': 'mae',\n",
    "    'boosting_type': 'gbdt',\n",
    "    'num_leaves': 31,\n",
    "    'learning_rate': 0.05,\n",
    "    'colsample_bytree': 0.9,\n",
    "    'subsample': 0.8,\n",
    "    'subsample_freq': 5,\n",
    "    'min_split_gain': 0.0,\n",
    "    'min_child_samples': 20,\n",
    "    'random_state': 42,\n",
    "    'verbose': -1\n",
    "}\n",
    "\n",
    "# Создание модели\n",
    "model = lgb.LGBMRegressor(**params, n_estimators=1000)\n",
    "\n",
    "# Обучение модели\n",
    "print(\"\\nНачинаем обучение модели...\")\n",
    "model.fit(X_train, y_train, eval_set=[(X_test, y_test)], eval_metric='mae', \n",
    "          callbacks=[lgb.early_stopping(stopping_rounds=50)])\n",
    "print(\"\\nОбучение завершено!\")\n",
    "\n",
    "# Предсказание на тестовом наборе\n",
    "y_pred = model.predict(X_test)\n",
    "\n",
    "# Оценка модели\n",
    "mae = mean_absolute_error(y_test, y_pred)\n",
    "print(f\"Mean Absolute Error: {mae}\")"
   ]
  },
  {
   "cell_type": "code",
   "execution_count": 330,
   "id": "424a2ae3-6ca4-45e0-84b9-26752b90ecaa",
   "metadata": {},
   "outputs": [
    {
     "name": "stdout",
     "output_type": "stream",
     "text": [
      "\n",
      "Оценка качества модели:\n",
      "Средняя абсолютная ошибка (MAE): 459914.83 руб.\n",
      "Коэффициент детерминации (R²): 0.727\n"
     ]
    },
    {
     "data": {
      "text/plain": [
       "<Figure size 1000x800 with 0 Axes>"
      ]
     },
     "metadata": {},
     "output_type": "display_data"
    },
    {
     "data": {
      "image/png": "[encoded data removed]",
      "text/plain": [
       "<Figure size 640x480 with 1 Axes>"
      ]
     },
     "metadata": {},
     "output_type": "display_data"
    }
   ],
   "source": [
    "## Оценка качества модели\n",
    "\n",
    "# Предсказание на тестовых данных\n",
    "y_pred = model.predict(X_test)\n",
    "\n",
    "# Расчет метрик\n",
    "mae = mean_absolute_error(y_test, y_pred)\n",
    "r2 = r2_score(y_test, y_pred)\n",
    "\n",
    "print(\"\\nОценка качества модели:\")\n",
    "print(f\"Средняя абсолютная ошибка (MAE): {mae:.2f} руб.\")\n",
    "print(f\"Коэффициент детерминации (R²): {r2:.3f}\")\n",
    "\n",
    "# Визуализация важности признаков\n",
    "plt.figure(figsize=(10, 8))\n",
    "lgb.plot_importance(model, max_num_features=20, importance_type='gain')\n",
    "plt.title('Важность признаков (gain)')\n",
    "plt.show()"
   ]
  },
  {
   "cell_type": "code",
   "execution_count": 331,
   "id": "06017196-6884-4ead-8ddb-71346d8cbdb4",
   "metadata": {},
   "outputs": [
    {
     "name": "stdout",
     "output_type": "stream",
     "text": [
      "       sq   Actual     Predicted         Error\n",
      "90   35.0  5550000  4.070641e+06  1.479359e+06\n",
      "575  30.0  3000000  4.175855e+06  1.175855e+06\n",
      "596  29.9  2400000  3.518085e+06  1.118085e+06\n",
      "598  13.2  2290000  3.405973e+06  1.115973e+06\n",
      "591  23.7  2599999  3.619723e+06  1.019724e+06\n",
      "556  34.6  3300000  4.309285e+06  1.009285e+06\n",
      "494  34.0  3800000  4.802370e+06  1.002370e+06\n",
      "595  33.0  2500000  3.469446e+06  9.694462e+05\n",
      "584  29.4  2850000  3.801648e+06  9.516475e+05\n",
      "163  32.0  4700000  3.757309e+06  9.426907e+05\n"
     ]
    }
   ],
   "source": [
    "# Вычисление абсолютных ошибок\n",
    "errors = np.abs(y_pred - y_test)\n",
    "\n",
    "# Создание DataFrame для анализа\n",
    "results = pd.DataFrame({\n",
    "    'sq': X_test['Площадь_м2'],\n",
    "    'Actual': y_test,\n",
    "    'Predicted': y_pred,\n",
    "    'Error': errors\n",
    "})\n",
    "\n",
    "# Сортировка по ошибкам в порядке убывания\n",
    "results_sorted = results.sort_values(by='Error', ascending=False)\n",
    "\n",
    "# Просмотр случаев с наибольшими ошибками\n",
    "print(results_sorted.head(10))"
   ]
  },
  {
   "cell_type": "code",
   "execution_count": 332,
   "id": "7e040ebe-1aae-44e2-a171-9c65d8be7ce8",
   "metadata": {},
   "outputs": [],
   "source": [
    "## Функция для определения цены квартиры\n",
    "\n",
    "def interpolate_price(value, column, df):\n",
    "    \"\"\"Интерполяция цены на основе существующих данных в указанной колонке.\"\"\"\n",
    "    \n",
    "    # Проверяем наличие точного значения\n",
    "    if value in df[column].values:\n",
    "        return df.loc[df[column] == value, \"Цена\"].values[0]\n",
    "    \n",
    "    # Находим ближайшие значения для интерполяции\n",
    "    lower_values = df[df[column] < value][column]\n",
    "    upper_values = df[df[column] > value][column]\n",
    "    \n",
    "    lower_value = lower_values.max() if not lower_values.empty else None\n",
    "    upper_value = upper_values.min() if not upper_values.empty else None\n",
    "    \n",
    "    # Если указано значение ниже минимального\n",
    "    if lower_value is None:\n",
    "        upper_price = df.loc[df[column] == upper_value, \"Цена\"].values[0]\n",
    "        return upper_price * (value / upper_value)  # Уменьшаем цену пропорционально\n",
    "    \n",
    "    # Если указано значение выше максимального\n",
    "    if upper_value is None:\n",
    "        lower_price = df.loc[df[column] == lower_value, \"Цена\"].values[0]\n",
    "        return lower_price * (value / lower_value)  # Увеличиваем цену пропорционально\n",
    "    \n",
    "    # Находим соответствующие цены для нижнего и верхнего значений\n",
    "    lower_price = df.loc[df[column] == lower_value, \"Цена\"].values[0]\n",
    "    upper_price = df.loc[df[column] == upper_value, \"Цена\"].values[0]\n",
    "    \n",
    "    # Линейная интерполяция цены\n",
    "    interpolated_price = lower_price + (upper_price - lower_price) * ((value - lower_value) / (upper_value - lower_value))\n",
    "    \n",
    "    return interpolated_price\n",
    "\n",
    "def predict_apartment_price(input_features):\n",
    "    \n",
    "    # Интерполируем площадь квартиры\n",
    "    input_features[\"Цена\"] = interpolate_price(input_features[\"Площадь_м2\"], \"Площадь_м2\", data_clean)\n",
    "    \n",
    "    # Создаем DataFrame из входных данных\n",
    "    input_df = pd.DataFrame([input_features])\n",
    "    \n",
    "    # Преобразуем категориальные признаки с использованием LabelEncoder'ов\n",
    "    for col in categorical_cols:\n",
    "        if col in input_df.columns:\n",
    "            try:\n",
    "                input_df[col] = label_encoders[col].transform(input_df[col].astype(str))\n",
    "            except ValueError:\n",
    "                print(f\"Значение {input_df[col]} не найдено в обучающих данных. Используем значение по умолчанию.\")\n",
    "                input_df[col] = label_encoders[col].transform([label_encoders[col].classes_[0]])\n",
    "    \n",
    "    # Добавляем отсутствующие колонки (если есть)\n",
    "    for col in X_processed.columns:\n",
    "        if col not in input_df.columns:\n",
    "            input_df[col] = 0\n",
    "    \n",
    "    # Упорядочиваем колонки как в обучающих данных\n",
    "    input_df = input_df[X_processed.columns]\n",
    "    \n",
    "    # Делаем предсказание цены квартиры с учетом интерполированной цены\n",
    "    predicted_price = model.predict(input_df)[0]\n",
    "    \n",
    "    return predicted_price"
   ]
  },
  {
   "cell_type": "code",
   "execution_count": 333,
   "id": "47c72b50-2b12-4648-a910-a53773266bab",
   "metadata": {},
   "outputs": [
    {
     "name": "stdout",
     "output_type": "stream",
     "text": [
      "\n",
      "Предсказанная цена квартиры: 3,986,988.21 руб.\n"
     ]
    }
   ],
   "source": [
    "## Пример использования функции определения цены квартиры\n",
    "\n",
    "example_apartment = {\n",
    "   \"Площадь_м2\": 33,\n",
    "   \"Парковка\": \"наземная\",\n",
    "   \"Ремонт\": \"Косметический\",\n",
    "   \"Балкон\": \"Лоджия (1)\",\n",
    "   \"Лифт\": \"Пасс (1)\",\n",
    "   \"Тип_дома\": \"Панельный\",\n",
    "   \"Этаж\": 7,\n",
    "   \"Этажность_дома\": 9 \n",
    "}\n",
    "\n",
    "# Определение цены квартиры\n",
    "predicted_price = predict_apartment_price(example_apartment)\n",
    "print(f\"\\nПредсказанная цена квартиры: {predicted_price:,.2f} руб.\")"
   ]
  }
 ],
 "metadata": {
  "kernelspec": {
   "display_name": "Python 3 (ipykernel)",
   "language": "python",
   "name": "python3"
  },
  "language_info": {
   "codemirror_mode": {
    "name": "ipython",
    "version": 3
   },
   "file_extension": ".py",
   "mimetype": "text/x-python",
   "name": "python",
   "nbconvert_exporter": "python",
   "pygments_lexer": "ipython3",
   "version": "3.10.16"
  }
 },
 "nbformat": 4,
 "nbformat_minor": 5
}
